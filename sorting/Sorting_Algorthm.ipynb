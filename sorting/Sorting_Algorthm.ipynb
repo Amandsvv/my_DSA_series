{
 "cells": [
  {
   "cell_type": "markdown",
   "id": "c935a952-568f-4786-855a-90cea979dc2c",
   "metadata": {},
   "source": [
    "Aman Kumar\n",
    "MCA (AI/ML)\n",
    "2501940051"
   ]
  },
  {
   "cell_type": "markdown",
   "id": "61a7bc18-8a79-451a-b501-dbf3c5e6fcd2",
   "metadata": {},
   "source": [
    "1. Bubble Sort Algorithm"
   ]
  },
  {
   "cell_type": "code",
   "execution_count": 1,
   "id": "ccf12ab6-6731-4a6c-a376-82b404926cf2",
   "metadata": {},
   "outputs": [
    {
     "data": {
      "text/plain": [
       "[1, 2, 3, 4]"
      ]
     },
     "execution_count": 1,
     "metadata": {},
     "output_type": "execute_result"
    }
   ],
   "source": [
    "def bubble_sort(arr):\n",
    "    n = len(arr)\n",
    "    for i in range(n-1):\n",
    "        for j in range(n-i-1):\n",
    "            if(arr[j] > arr[j+1]):\n",
    "                temp = arr[j]\n",
    "                arr[j] = arr[j+1]\n",
    "                arr[j+1] = temp\n",
    "\n",
    "arr = [2,3,1,4]\n",
    "bubble_sort(arr)\n",
    "arr"
   ]
  },
  {
   "cell_type": "markdown",
   "id": "facc099d-fa83-46d7-bba7-35718629334e",
   "metadata": {},
   "source": [
    "2. Selection Sort"
   ]
  },
  {
   "cell_type": "code",
   "execution_count": 2,
   "id": "2a6672b3-04f5-4473-8322-ff1728dc76d9",
   "metadata": {},
   "outputs": [
    {
     "data": {
      "text/plain": [
       "[1, 2, 3, 4, 5]"
      ]
     },
     "execution_count": 2,
     "metadata": {},
     "output_type": "execute_result"
    }
   ],
   "source": [
    "def selection_sort(arr):\n",
    "    n = len(arr) \n",
    "    for i in range(n-1):\n",
    "        smallest = i\n",
    "        for j in range (i+1,n-1):\n",
    "            if arr[j] < arr[smallest] :\n",
    "                smallest = j\n",
    "        arr[i],arr[smallest] = arr[smallest],arr[i]\n",
    "\n",
    "arr = [2,1,3,4,5]\n",
    "selection_sort(arr)\n",
    "arr"
   ]
  },
  {
   "cell_type": "markdown",
   "id": "1525a8f2-9d62-4889-a405-dbe8d9770585",
   "metadata": {},
   "source": [
    "3. Insertion Sort"
   ]
  },
  {
   "cell_type": "code",
   "execution_count": 3,
   "id": "3a57058b-781b-417d-9551-58e14b6162e9",
   "metadata": {},
   "outputs": [
    {
     "data": {
      "text/plain": [
       "[1, 2, 3, 4, 5]"
      ]
     },
     "execution_count": 3,
     "metadata": {},
     "output_type": "execute_result"
    }
   ],
   "source": [
    "def insertion_sort(arr):\n",
    "    n = len(arr)\n",
    "    for i in range (1,n):\n",
    "        prev = i-1\n",
    "        curr = arr[i]\n",
    "        while (prev >= 0 and curr < arr[prev]) :\n",
    "            arr[prev+1] = arr[prev]\n",
    "            prev-=1\n",
    "        arr[prev+1] = curr\n",
    "arr = [5,4,3,2,1]\n",
    "insertion_sort(arr)\n",
    "arr"
   ]
  },
  {
   "cell_type": "markdown",
   "id": "ef1f0579-b831-43da-af10-8b20613c532e",
   "metadata": {},
   "source": [
    "4. Merge Sort"
   ]
  },
  {
   "cell_type": "code",
   "execution_count": 4,
   "id": "ebd15a02-8498-441a-857f-e602077a204c",
   "metadata": {},
   "outputs": [
    {
     "name": "stdout",
     "output_type": "stream",
     "text": [
      "Merge Sort: [1, 2, 3, 4, 5]\n"
     ]
    }
   ],
   "source": [
    "def merge_sort(arr):\n",
    "    if len(arr) > 1:\n",
    "        mid = len(arr) // 2\n",
    "        left_half = arr[:mid]\n",
    "        right_half = arr[mid:]\n",
    "\n",
    "        # Recursive sort\n",
    "        merge_sort(left_half)\n",
    "        merge_sort(right_half)\n",
    "\n",
    "        # Merge process\n",
    "        i = j = k = 0\n",
    "        while i < len(left_half) and j < len(right_half):\n",
    "            if left_half[i] < right_half[j]:\n",
    "                arr[k] = left_half[i]\n",
    "                i += 1\n",
    "            else:\n",
    "                arr[k] = right_half[j]\n",
    "                j += 1\n",
    "            k += 1\n",
    "\n",
    "        # Copy remaining elements\n",
    "        while i < len(left_half):\n",
    "            arr[k] = left_half[i]\n",
    "            i += 1\n",
    "            k += 1\n",
    "        while j < len(right_half):\n",
    "            arr[k] = right_half[j]\n",
    "            j += 1\n",
    "            k += 1\n",
    "\n",
    "arr1 = [5, 4, 3, 2, 1]\n",
    "merge_sort(arr1)\n",
    "print(\"Merge Sort:\", arr1)"
   ]
  },
  {
   "cell_type": "markdown",
   "id": "7b64adab-4edc-4da2-b9f2-6587e85aa6eb",
   "metadata": {},
   "source": [
    "5. Quick Sort"
   ]
  },
  {
   "cell_type": "code",
   "execution_count": 5,
   "id": "690c9769-ef5b-4e59-9f18-478ff2237050",
   "metadata": {},
   "outputs": [
    {
     "name": "stdout",
     "output_type": "stream",
     "text": [
      "Quick Sort: [1, 2, 3, 4, 5]\n"
     ]
    }
   ],
   "source": [
    "def quick_sort(arr):\n",
    "    if len(arr) <= 1:\n",
    "        return arr\n",
    "    else:\n",
    "        pivot = arr[len(arr) // 2]  # choose middle element as pivot\n",
    "        left = [x for x in arr if x < pivot]\n",
    "        middle = [x for x in arr if x == pivot]\n",
    "        right = [x for x in arr if x > pivot]\n",
    "        return quick_sort(left) + middle + quick_sort(right)\n",
    "\n",
    "arr2 = [5, 4, 3, 2, 1]\n",
    "arr2 = quick_sort(arr2)\n",
    "print(\"Quick Sort:\", arr2)"
   ]
  }
 ],
 "metadata": {
  "kernelspec": {
   "display_name": "Python [conda env:base] *",
   "language": "python",
   "name": "conda-base-py"
  },
  "language_info": {
   "codemirror_mode": {
    "name": "ipython",
    "version": 3
   },
   "file_extension": ".py",
   "mimetype": "text/x-python",
   "name": "python",
   "nbconvert_exporter": "python",
   "pygments_lexer": "ipython3",
   "version": "3.13.5"
  }
 },
 "nbformat": 4,
 "nbformat_minor": 5
}
